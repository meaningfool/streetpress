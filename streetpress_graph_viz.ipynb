{
 "cells": [
  {
   "cell_type": "markdown",
   "metadata": {},
   "source": [
    "# Goal\n",
    "\n",
    "The goal is to build a visualization of the graph generated in the previous files. \n",
    "The choice for the visualization is to use Neo4j Aura. "
   ]
  },
  {
   "cell_type": "markdown",
   "metadata": {},
   "source": [
    "# How to run this file\n",
    "\n",
    "Required: \n",
    "- A Neo4j Aura instance\n",
    "\n",
    "Your secrets (API keys) must be put in a \".env\" file in the same folder as this file."
   ]
  },
  {
   "cell_type": "code",
   "execution_count": 1,
   "metadata": {},
   "outputs": [],
   "source": [
    "import os\n",
    "from dotenv import load_dotenv\n",
    "from langchain.graphs import Neo4jGraph\n",
    "load_dotenv()\n",
    "\n",
    "graph = Neo4jGraph(\n",
    "    url=os.getenv('NEO4J_URL'),\n",
    "    username=os.getenv('NEO4J_USERNAME'),\n",
    "    password=os.getenv('NEO4J_PASSWORD')\n",
    ")\n"
   ]
  },
  {
   "cell_type": "markdown",
   "metadata": {},
   "source": [
    "# Retrieve all nodes and relationships from the SQLite DB"
   ]
  },
  {
   "cell_type": "code",
   "execution_count": 2,
   "metadata": {},
   "outputs": [],
   "source": [
    "# Retrieve the actors and relationships that have been stored in the local SQLite DB\n",
    "\n",
    "import sqlite3\n",
    "\n",
    "def retrieve_actors_from_sqlite(db_name=\"streetpress.db\"):\n",
    "    # Connect to the db\n",
    "    conn = sqlite3.connect(db_name)\n",
    "    cursor = conn.cursor()\n",
    "\n",
    "    query = \"SELECT * FROM actors\"\n",
    "    cursor.execute(query)\n",
    "\n",
    "    # Fetch and return the result\n",
    "    result = cursor.fetchall()\n",
    "\n",
    "    # Close the connection\n",
    "    conn.close()\n",
    "\n",
    "    return result\n",
    "\n",
    "\n",
    "def retrieve_relationships_from_sqlite(db_name=\"streetpress.db\"):\n",
    "    # Connect to the db\n",
    "    conn = sqlite3.connect(db_name)\n",
    "    cursor = conn.cursor()\n",
    "\n",
    "    query = \"SELECT * FROM relationships\"\n",
    "    cursor.execute(query)\n",
    "\n",
    "    # Fetch and return the result\n",
    "    result = cursor.fetchall()\n",
    "\n",
    "    # Close the connection\n",
    "    conn.close()\n",
    "\n",
    "    return result"
   ]
  },
  {
   "cell_type": "markdown",
   "metadata": {},
   "source": [
    "# Create a GraphDocument from nodes and relationships\n",
    "\n",
    "We are using Langchain to manage the interface with Neo4j. \n",
    "Langchain requires a GraphDocument, made of Node and Relationship objects.\n",
    "We build the GraphDocument from the actors and relationships retrieved from SQLite."
   ]
  },
  {
   "cell_type": "code",
   "execution_count": 3,
   "metadata": {},
   "outputs": [],
   "source": [
    "from langchain.graphs.graph_document import GraphDocument, Node, Relationship\n",
    "from langchain_core.documents.base import Document\n",
    "\n",
    "# Create the GraphDocument object\n",
    "def create_graph_document(nodes, rels):\n",
    "    graph_nodes = []\n",
    "    graph_rels = []\n",
    "    id_map = {}\n",
    "\n",
    "    for node in nodes:\n",
    "        graph_node = Node(\n",
    "            id= node[0],\n",
    "            type= \"Actor\",\n",
    "            properties= {\n",
    "                \"name\": node[1],\n",
    "                \"label\": node[2],\n",
    "                \"key_information\": node[3]\n",
    "            }\n",
    "        )\n",
    "        graph_nodes.append(graph_node)\n",
    "        id_map[node[0]]=graph_node\n",
    "\n",
    "    for rel in rels:\n",
    "        graph_rel = Relationship(\n",
    "            source= id_map[rel[1]],\n",
    "            target= id_map[rel[2]],\n",
    "            type= rel[3],\n",
    "            properties= {\n",
    "                \"rationale\": rel[4]\n",
    "            }\n",
    "        )\n",
    "        graph_rels.append(graph_rel)\n",
    "\n",
    "    graph_document = GraphDocument(\n",
    "        nodes= graph_nodes,\n",
    "        relationships= graph_rels,\n",
    "        source= Document(page_content=\"Streetpress\")\n",
    "    )\n",
    "\n",
    "    return graph_document\n",
    "\n",
    "# Delete the content of the Neo4j Aura database\n",
    "def delete_graph_from_aura(neo4jgraph):\n",
    "    neo4jgraph.query(\"MATCH (n) DETACH DELETE n\")\n"
   ]
  },
  {
   "cell_type": "markdown",
   "metadata": {},
   "source": [
    "# Put it all together"
   ]
  },
  {
   "cell_type": "code",
   "execution_count": 4,
   "metadata": {},
   "outputs": [],
   "source": [
    "# Retrieve the data from the SQLite DB\n",
    "nodes = retrieve_actors_from_sqlite()\n",
    "rels = retrieve_relationships_from_sqlite()\n",
    "\n",
    "# Build a graph document\n",
    "graph_document = create_graph_document(nodes, rels)\n",
    "\n",
    "# Delete the exiting content of Neo4j Aura before adding new content\n",
    "delete_graph_from_aura(graph)\n",
    "\n",
    "# Insert all the nodes and relationships from the graph document into Neo4j Aura\n",
    "graph.add_graph_documents([graph_document])"
   ]
  },
  {
   "cell_type": "code",
   "execution_count": 5,
   "metadata": {},
   "outputs": [],
   "source": [
    "delete_graph_from_aura(graph)"
   ]
  },
  {
   "cell_type": "code",
   "execution_count": null,
   "metadata": {},
   "outputs": [],
   "source": []
  }
 ],
 "metadata": {
  "kernelspec": {
   "display_name": "venv",
   "language": "python",
   "name": "python3"
  },
  "language_info": {
   "codemirror_mode": {
    "name": "ipython",
    "version": 3
   },
   "file_extension": ".py",
   "mimetype": "text/x-python",
   "name": "python",
   "nbconvert_exporter": "python",
   "pygments_lexer": "ipython3",
   "version": "3.11.6"
  }
 },
 "nbformat": 4,
 "nbformat_minor": 2
}
